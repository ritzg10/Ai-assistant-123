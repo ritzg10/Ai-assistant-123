{
 "cells": [
  {
   "cell_type": "code",
   "execution_count": 1,
   "metadata": {},
   "outputs": [
    {
     "name": "stdout",
     "output_type": "stream",
     "text": [
      "enter a number3\n",
      "enter a number6\n",
      "enter a number9\n",
      "162\n"
     ]
    }
   ],
   "source": [
    "n1=int(input(\"enter a number\"))\n",
    "n2=int(input(\"enter a number\"))\n",
    "n3=int(input(\"enter a number\"))\n",
    "if(n1==7):\n",
    "    print(n2*n3)\n",
    "elif(n2==7):\n",
    "    print(n3)\n",
    "elif(n3==7):\n",
    "    print(-1)\n",
    "else:\n",
    "    print(n1*n2*n3)"
   ]
  },
  {
   "cell_type": "code",
   "execution_count": 2,
   "metadata": {},
   "outputs": [
    {
     "name": "stdout",
     "output_type": "stream",
     "text": [
      "enter a number7\n",
      "enter a number8\n",
      "enter a number9\n",
      "72\n"
     ]
    }
   ],
   "source": [
    "n1=int(input(\"enter a number\"))\n",
    "n2=int(input(\"enter a number\"))\n",
    "n3=int(input(\"enter a number\"))\n",
    "if(n1==7):\n",
    "    print(n2*n3)\n",
    "elif(n2==7):\n",
    "    print(n3)\n",
    "elif(n3==7):\n",
    "    print(-1)\n",
    "else:\n",
    "    print(n1*n2*n3)\n",
    "    "
   ]
  },
  {
   "cell_type": "code",
   "execution_count": null,
   "metadata": {},
   "outputs": [],
   "source": [
    "n=int(input(\"enter any number: \"))\n",
    "count=0\n",
    "while (n%3):\n",
    "    "
   ]
  }
 ],
 "metadata": {
  "kernelspec": {
   "display_name": "Python 3",
   "language": "python",
   "name": "python3"
  },
  "language_info": {
   "codemirror_mode": {
    "name": "ipython",
    "version": 3
   },
   "file_extension": ".py",
   "mimetype": "text/x-python",
   "name": "python",
   "nbconvert_exporter": "python",
   "pygments_lexer": "ipython3",
   "version": "3.8.3"
  }
 },
 "nbformat": 4,
 "nbformat_minor": 4
}
